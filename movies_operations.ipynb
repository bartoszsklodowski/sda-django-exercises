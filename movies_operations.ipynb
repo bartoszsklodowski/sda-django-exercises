{
 "cells": [
  {
   "cell_type": "code",
   "execution_count": 1,
   "id": "e8ebf405",
   "metadata": {},
   "outputs": [],
   "source": [
    "import os\n",
    "os.environ[\"DJANGO_ALLOW_ASYNC_UNSAFE\"] = \"true\""
   ]
  },
  {
   "cell_type": "code",
   "execution_count": 2,
   "id": "9035ca4c",
   "metadata": {},
   "outputs": [],
   "source": [
    "from movies.models import Movie, Country, Actor, Oscar"
   ]
  },
  {
   "cell_type": "code",
   "execution_count": 3,
   "id": "5c739e94",
   "metadata": {},
   "outputs": [
    {
     "data": {
      "text/plain": [
       "<Movie: Movie object (1)>"
      ]
     },
     "execution_count": 3,
     "metadata": {},
     "output_type": "execute_result"
    }
   ],
   "source": [
    "Movie.objects.create(title=\"Pulp Fiction\", genre=\"gangster\", year=1994)"
   ]
  },
  {
   "cell_type": "code",
   "execution_count": 4,
   "id": "759c6448",
   "metadata": {},
   "outputs": [
    {
     "data": {
      "text/plain": [
       "<Movie: Movie object (2)>"
      ]
     },
     "execution_count": 4,
     "metadata": {},
     "output_type": "execute_result"
    }
   ],
   "source": [
    "Movie.objects.create(title=\"The Lord of the Rings: The Fellowship of the Ring\", genre=\"fantasy\", year=2001)"
   ]
  },
  {
   "cell_type": "code",
   "execution_count": 5,
   "id": "ccc12ddb",
   "metadata": {},
   "outputs": [
    {
     "data": {
      "text/plain": [
       "<Movie: Movie object (3)>"
      ]
     },
     "execution_count": 5,
     "metadata": {},
     "output_type": "execute_result"
    }
   ],
   "source": [
    "Movie.objects.create(title=\"The Lord of the Rings: The Two Towers\", genre=\"fantasy\", year=2003)"
   ]
  },
  {
   "cell_type": "code",
   "execution_count": 6,
   "id": "daa15d14",
   "metadata": {},
   "outputs": [
    {
     "data": {
      "text/plain": [
       "<Movie: Movie object (4)>"
      ]
     },
     "execution_count": 6,
     "metadata": {},
     "output_type": "execute_result"
    }
   ],
   "source": [
    "Movie.objects.create(title=\"The Lord of the Rings: The Return of the King\", genre=\"fantasy\", year=2004)"
   ]
  },
  {
   "cell_type": "code",
   "execution_count": 7,
   "id": "5fd6700f",
   "metadata": {},
   "outputs": [
    {
     "data": {
      "text/plain": [
       "<Movie: Movie object (5)>"
      ]
     },
     "execution_count": 7,
     "metadata": {},
     "output_type": "execute_result"
    }
   ],
   "source": [
    "Movie.objects.create(title=\"Intouchables\", genre=\"comedy\", year=2011)"
   ]
  },
  {
   "cell_type": "code",
   "execution_count": 8,
   "id": "5db133a1",
   "metadata": {},
   "outputs": [
    {
     "data": {
      "text/plain": [
       "<Movie: Movie object (6)>"
      ]
     },
     "execution_count": 8,
     "metadata": {},
     "output_type": "execute_result"
    }
   ],
   "source": [
    "Movie.objects.create(title=\"Forrest Gump\", genre=\"comedy/drama\", year=1994)"
   ]
  },
  {
   "cell_type": "code",
   "execution_count": 9,
   "id": "682ed4a2",
   "metadata": {
    "scrolled": true
   },
   "outputs": [
    {
     "data": {
      "text/plain": [
       "<Actor: Actor object (1)>"
      ]
     },
     "execution_count": 9,
     "metadata": {},
     "output_type": "execute_result"
    }
   ],
   "source": [
    "Actor.objects.create(name=\"Tom\", last_name=\"Hanks\", age=64)"
   ]
  },
  {
   "cell_type": "code",
   "execution_count": 10,
   "id": "f8780997",
   "metadata": {},
   "outputs": [
    {
     "data": {
      "text/plain": [
       "<Actor: Actor object (2)>"
      ]
     },
     "execution_count": 10,
     "metadata": {},
     "output_type": "execute_result"
    }
   ],
   "source": [
    "Actor.objects.create(name=\"Orlando\", last_name=\"Bloom\", age=44)"
   ]
  },
  {
   "cell_type": "code",
   "execution_count": 11,
   "id": "cf03907d",
   "metadata": {},
   "outputs": [
    {
     "data": {
      "text/plain": [
       "<Actor: Actor object (3)>"
      ]
     },
     "execution_count": 11,
     "metadata": {},
     "output_type": "execute_result"
    }
   ],
   "source": [
    "Actor.objects.create(name=\"Ian\", last_name=\"McKellen\", age=81)"
   ]
  },
  {
   "cell_type": "code",
   "execution_count": 12,
   "id": "74c28b82",
   "metadata": {},
   "outputs": [
    {
     "data": {
      "text/plain": [
       "<Actor: Actor object (4)>"
      ]
     },
     "execution_count": 12,
     "metadata": {},
     "output_type": "execute_result"
    }
   ],
   "source": [
    "Actor.objects.create(name=\"Samuel L.\", last_name=\"Jackson\", age=72)"
   ]
  },
  {
   "cell_type": "code",
   "execution_count": 13,
   "id": "9e6b9365",
   "metadata": {},
   "outputs": [
    {
     "data": {
      "text/plain": [
       "<Country: Country object (1)>"
      ]
     },
     "execution_count": 13,
     "metadata": {},
     "output_type": "execute_result"
    }
   ],
   "source": [
    "Country.objects.create(name=\"USA\", iso_code=\"US\")"
   ]
  },
  {
   "cell_type": "code",
   "execution_count": 14,
   "id": "aa4ff18d",
   "metadata": {
    "scrolled": true
   },
   "outputs": [
    {
     "data": {
      "text/plain": [
       "<Country: Country object (2)>"
      ]
     },
     "execution_count": 14,
     "metadata": {},
     "output_type": "execute_result"
    }
   ],
   "source": [
    "Country.objects.create(name=\"France\", iso_code=\"FR\")"
   ]
  },
  {
   "cell_type": "code",
   "execution_count": 15,
   "id": "2643d954",
   "metadata": {},
   "outputs": [
    {
     "data": {
      "text/plain": [
       "<Country: Country object (3)>"
      ]
     },
     "execution_count": 15,
     "metadata": {},
     "output_type": "execute_result"
    }
   ],
   "source": [
    "Country.objects.create(name=\"Poland\", iso_code=\"PL\")"
   ]
  },
  {
   "cell_type": "code",
   "execution_count": 16,
   "id": "b9bda28f",
   "metadata": {},
   "outputs": [
    {
     "data": {
      "text/plain": [
       "<Country: Country object (4)>"
      ]
     },
     "execution_count": 16,
     "metadata": {},
     "output_type": "execute_result"
    }
   ],
   "source": [
    "Country.objects.create(name=\"New Zealand\", iso_code=\"NZD\")"
   ]
  },
  {
   "cell_type": "code",
   "execution_count": 28,
   "id": "a5df0049",
   "metadata": {},
   "outputs": [
    {
     "data": {
      "text/plain": [
       "<Oscar: Oscar object (8)>"
      ]
     },
     "execution_count": 28,
     "metadata": {},
     "output_type": "execute_result"
    }
   ],
   "source": [
    "Oscar.objects.create(category=\"Best Picture\", year=2004)"
   ]
  },
  {
   "cell_type": "code",
   "execution_count": 22,
   "id": "57c0dcef",
   "metadata": {},
   "outputs": [
    {
     "data": {
      "text/plain": [
       "<Oscar: Oscar object (6)>"
      ]
     },
     "execution_count": 22,
     "metadata": {},
     "output_type": "execute_result"
    }
   ],
   "source": [
    "Oscar.objects.create(category=\"Best Picture\", year=1994)"
   ]
  },
  {
   "cell_type": "code",
   "execution_count": 21,
   "id": "f340ebbf",
   "metadata": {},
   "outputs": [
    {
     "data": {
      "text/plain": [
       "<Oscar: Oscar object (5)>"
      ]
     },
     "execution_count": 21,
     "metadata": {},
     "output_type": "execute_result"
    }
   ],
   "source": [
    "Oscar.objects.create(category=\"Best Actor\", year=1994)"
   ]
  },
  {
   "cell_type": "code",
   "execution_count": 20,
   "id": "9f26971b",
   "metadata": {},
   "outputs": [
    {
     "data": {
      "text/plain": [
       "<Oscar: Oscar object (4)>"
      ]
     },
     "execution_count": 20,
     "metadata": {},
     "output_type": "execute_result"
    }
   ],
   "source": [
    "Oscar.objects.create(category=\"Best Original Screenplay\", year=1095)"
   ]
  },
  {
   "cell_type": "code",
   "execution_count": 19,
   "id": "0e75ed9e",
   "metadata": {},
   "outputs": [
    {
     "data": {
      "text/plain": [
       "<Oscar: Oscar object (3)>"
      ]
     },
     "execution_count": 19,
     "metadata": {},
     "output_type": "execute_result"
    }
   ],
   "source": [
    "Oscar.objects.create(category=\"Best Costume Design\", year=2002)"
   ]
  },
  {
   "cell_type": "code",
   "execution_count": 18,
   "id": "f2b9d649",
   "metadata": {},
   "outputs": [
    {
     "data": {
      "text/plain": [
       "<Oscar: Oscar object (2)>"
      ]
     },
     "execution_count": 18,
     "metadata": {},
     "output_type": "execute_result"
    }
   ],
   "source": [
    "Oscar.objects.create(category=\"Best Sound\", year=1995)"
   ]
  },
  {
   "cell_type": "code",
   "execution_count": 18,
   "id": "60332730",
   "metadata": {},
   "outputs": [
    {
     "name": "stdout",
     "output_type": "stream",
     "text": [
      "Best Visual Effects 2002\n",
      "Best Visual Effects 1995\n",
      "Best Costume Design 2002\n",
      "Best Original Screenplay 1995\n",
      "Best Actor 1994\n",
      "Best Picture 1994\n",
      "Best Picture 2004\n"
     ]
    }
   ],
   "source": [
    "for i in Oscar.objects.all():\n",
    "    print(i.category, i.year)"
   ]
  },
  {
   "cell_type": "code",
   "execution_count": 17,
   "id": "45b94436",
   "metadata": {},
   "outputs": [
    {
     "data": {
      "text/plain": [
       "1"
      ]
     },
     "execution_count": 17,
     "metadata": {},
     "output_type": "execute_result"
    }
   ],
   "source": [
    "Oscar.objects.filter(category=\"Best Sound\").update(category=\"Best Visual Effects\")"
   ]
  },
  {
   "cell_type": "code",
   "execution_count": 38,
   "id": "7987c86b",
   "metadata": {},
   "outputs": [
    {
     "data": {
      "text/plain": [
       "<Oscar: Oscar object (1)>"
      ]
     },
     "execution_count": 38,
     "metadata": {},
     "output_type": "execute_result"
    }
   ],
   "source": [
    "Oscar.objects.create(id=1,category=\"Best Visual Effects\", year=2002)"
   ]
  },
  {
   "cell_type": "code",
   "execution_count": 39,
   "id": "993a08c7",
   "metadata": {
    "scrolled": true
   },
   "outputs": [
    {
     "data": {
      "text/plain": [
       "<Oscar: Oscar object (1)>"
      ]
     },
     "execution_count": 39,
     "metadata": {},
     "output_type": "execute_result"
    }
   ],
   "source": [
    "Oscar.objects.get(id=1)"
   ]
  },
  {
   "cell_type": "code",
   "execution_count": 41,
   "id": "e6e68607",
   "metadata": {},
   "outputs": [
    {
     "name": "stdout",
     "output_type": "stream",
     "text": [
      "Pulp Fiction\n",
      "The Lord of the Rings: The Fellowship of the Ring\n",
      "The Lord of the Rings: The Two Towers\n",
      "The Lord of the Rings: The Return of the King\n",
      "Intouchables\n",
      "Forrest Gump\n"
     ]
    }
   ],
   "source": [
    "for i in Movie.objects.all():\n",
    "    print(i.title)"
   ]
  },
  {
   "cell_type": "code",
   "execution_count": 42,
   "id": "fbf06db6",
   "metadata": {},
   "outputs": [
    {
     "name": "stdout",
     "output_type": "stream",
     "text": [
      "USA\n",
      "France\n",
      "Poland\n",
      "New Zealand\n"
     ]
    }
   ],
   "source": [
    "for i in Country.objects.all():\n",
    "    print(i.name)"
   ]
  },
  {
   "cell_type": "code",
   "execution_count": 5,
   "id": "efff822b",
   "metadata": {},
   "outputs": [
    {
     "name": "stdout",
     "output_type": "stream",
     "text": [
      "Tom\n",
      "Orlando\n",
      "Ian\n",
      "Samuel L.\n"
     ]
    }
   ],
   "source": [
    "for i in Actor.objects.all():\n",
    "    print(i.name)"
   ]
  },
  {
   "cell_type": "markdown",
   "id": "085267fc",
   "metadata": {},
   "source": [
    "### actor to movie ###"
   ]
  },
  {
   "cell_type": "markdown",
   "id": "bace1c05",
   "metadata": {},
   "source": [
    "#### Many-to-many"
   ]
  },
  {
   "cell_type": "code",
   "execution_count": 7,
   "id": "91193edd",
   "metadata": {},
   "outputs": [],
   "source": [
    "m1 = Movie.objects.get(title=\"Pulp Fiction\")\n",
    "a1 = Actor.objects.get(name=\"Samuel L.\")\n",
    "m1.actor.add(a1)\n",
    "m1.save()"
   ]
  },
  {
   "cell_type": "code",
   "execution_count": 10,
   "id": "0ddd4da1",
   "metadata": {},
   "outputs": [],
   "source": [
    "m2 = Movie.objects.get(title=\"Forrest Gump\")\n",
    "a2 = Actor.objects.get(name=\"Tom\")\n",
    "m2.actor.add(a2)\n",
    "m2.save()"
   ]
  },
  {
   "cell_type": "code",
   "execution_count": 19,
   "id": "83295028",
   "metadata": {},
   "outputs": [],
   "source": [
    "m3 = Movie.objects.get(title=\"The Lord of the Rings: The Two Towers\")\n",
    "a3 = Actor.objects.get(name=\"Ian\")\n",
    "m3.actor.add(a3)\n",
    "m3.save()"
   ]
  },
  {
   "cell_type": "code",
   "execution_count": 16,
   "id": "98369da2",
   "metadata": {},
   "outputs": [],
   "source": [
    "m4 = Movie.objects.get(title=\"The Lord of the Rings: The Return of the King\")\n",
    "a4 = Actor.objects.get(name=\"Orlando\")\n",
    "m4.actor.add(a4)\n",
    "m4.save()"
   ]
  },
  {
   "cell_type": "markdown",
   "id": "41487030",
   "metadata": {},
   "source": [
    "### oscar to movie"
   ]
  },
  {
   "cell_type": "code",
   "execution_count": 19,
   "id": "a646834b",
   "metadata": {},
   "outputs": [],
   "source": [
    "m1 = Movie.objects.get(title=\"Forrest Gump\")\n",
    "o1 = Oscar.objects.get(category=\"Best Visual Effects\", year = 2002)\n",
    "o1.movie = m1\n",
    "o1.save()"
   ]
  },
  {
   "cell_type": "code",
   "execution_count": 15,
   "id": "79f031a0",
   "metadata": {},
   "outputs": [],
   "source": [
    "m1 = Movie.objects.get(title=\"The Lord of the Rings: The Two Towers\")\n",
    "o1 = Oscar.objects.get(category=\"Best Visual Effects\", year = 2002)\n",
    "o1.movie = m1\n",
    "o1.save()"
   ]
  },
  {
   "cell_type": "code",
   "execution_count": 21,
   "id": "d771d1e7",
   "metadata": {},
   "outputs": [],
   "source": [
    "m1 = Movie.objects.get(title=\"The Lord of the Rings: The Fellowship of the Ring\")\n",
    "o1 = Oscar.objects.get(category=\"Best Costume Design\", year = 2002)\n",
    "o1.movie = m1\n",
    "o1.save()"
   ]
  },
  {
   "cell_type": "code",
   "execution_count": 22,
   "id": "493094be",
   "metadata": {},
   "outputs": [],
   "source": [
    "m1 = Movie.objects.get(title=\"Pulp Fiction\")\n",
    "o1 = Oscar.objects.get(category=\"Best Original Screenplay\", year = 1995)\n",
    "o1.movie = m1\n",
    "o1.save()"
   ]
  },
  {
   "cell_type": "code",
   "execution_count": 23,
   "id": "18df33a0",
   "metadata": {},
   "outputs": [],
   "source": [
    "m1 = Movie.objects.get(title=\"Forrest Gump\")\n",
    "o1 = Oscar.objects.get(category=\"Best Actor\", year = 1994)\n",
    "o1.movie = m1\n",
    "o1.save()"
   ]
  },
  {
   "cell_type": "code",
   "execution_count": 24,
   "id": "bb93e5f7",
   "metadata": {},
   "outputs": [],
   "source": [
    "m1 = Movie.objects.get(title=\"The Lord of the Rings: The Return of the King\")\n",
    "o1 = Oscar.objects.get(category=\"Best Picture\", year = 2004)\n",
    "o1.movie = m1\n",
    "o1.save()"
   ]
  },
  {
   "cell_type": "code",
   "execution_count": 25,
   "id": "f44f08c3",
   "metadata": {},
   "outputs": [],
   "source": [
    "m1 = Movie.objects.get(title=\"Forrest Gump\")\n",
    "o1 = Oscar.objects.get(category=\"Best Picture\", year = 1994)\n",
    "o1.movie = m1\n",
    "o1.save()"
   ]
  },
  {
   "cell_type": "code",
   "execution_count": 25,
   "id": "4509cc3c",
   "metadata": {},
   "outputs": [],
   "source": [
    "m1 = Movie.objects.get(title=\"Forrest Gump\")\n",
    "o1 = Oscar.objects.get(category=\"Best Picture\", year = 1994)\n",
    "o1.movie = m1\n",
    "o1.save()"
   ]
  },
  {
   "cell_type": "markdown",
   "id": "72ea247a",
   "metadata": {},
   "source": [
    "### oscar to actor"
   ]
  },
  {
   "cell_type": "code",
   "execution_count": 27,
   "id": "d90713be",
   "metadata": {},
   "outputs": [],
   "source": [
    "a1 = Actor.objects.get(name=\"Tom\")\n",
    "o1 = Oscar.objects.get(category=\"Best Actor\", year = 1994)\n",
    "o1.actor = a1\n",
    "o1.save()"
   ]
  },
  {
   "cell_type": "markdown",
   "id": "2465a39b",
   "metadata": {},
   "source": [
    "### film to country"
   ]
  },
  {
   "cell_type": "code",
   "execution_count": 18,
   "id": "3243ef26",
   "metadata": {},
   "outputs": [],
   "source": [
    "m1 = Movie.objects.get(title=\"Forrest Gump\")\n",
    "c1 = Country.objects.get(name=\"USA\")\n",
    "m1.country = c1\n",
    "m1.save()"
   ]
  },
  {
   "cell_type": "code",
   "execution_count": 19,
   "id": "cf2d0806",
   "metadata": {},
   "outputs": [],
   "source": [
    "m1 = Movie.objects.get(title=\"Pulp Fiction\")\n",
    "c1 = Country.objects.get(name=\"USA\")\n",
    "m1.country = c1\n",
    "m1.save()"
   ]
  },
  {
   "cell_type": "code",
   "execution_count": 30,
   "id": "2e3577f4",
   "metadata": {},
   "outputs": [],
   "source": [
    "m1 = Movie.objects.get(title=\"The Lord of the Rings: The Fellowship of the Ring\")\n",
    "c1 = Country.objects.get(name=\"USA\")\n",
    "m1.country = c1\n",
    "m1.save()"
   ]
  },
  {
   "cell_type": "code",
   "execution_count": 31,
   "id": "998d6dfd",
   "metadata": {},
   "outputs": [],
   "source": [
    "m1 = Movie.objects.get(title=\"The Lord of the Rings: The Two Towers\")\n",
    "c1 = Country.objects.get(name=\"USA\")\n",
    "m1.country = c1\n",
    "m1.save()"
   ]
  },
  {
   "cell_type": "code",
   "execution_count": 32,
   "id": "e26685e4",
   "metadata": {},
   "outputs": [],
   "source": [
    "m1 = Movie.objects.get(title=\"The Lord of the Rings: The Return of the King\")\n",
    "c1 = Country.objects.get(name=\"USA\")\n",
    "m1.country = c1\n",
    "m1.save()"
   ]
  },
  {
   "cell_type": "code",
   "execution_count": 24,
   "id": "638ac0f4",
   "metadata": {},
   "outputs": [],
   "source": [
    "m1 = Movie.objects.get(title=\"Intouchables\")\n",
    "c1 = Country.objects.get(name=\"France\")\n",
    "m1.country = c1\n",
    "m1.save()"
   ]
  },
  {
   "cell_type": "markdown",
   "id": "5150548f",
   "metadata": {},
   "source": [
    "### Sprawdź ile oscarów ma każdy film, każdy aktor oraz każda aktorka"
   ]
  },
  {
   "cell_type": "code",
   "execution_count": 6,
   "id": "c55bd59a",
   "metadata": {},
   "outputs": [
    {
     "name": "stdout",
     "output_type": "stream",
     "text": [
      "Movie: Pulp Fiction, numbers of oscars: 1\n",
      "Movie: The Lord of the Rings: The Fellowship of the Ring, numbers of oscars: 2\n",
      "Movie: The Lord of the Rings: The Two Towers, numbers of oscars: 0\n",
      "Movie: The Lord of the Rings: The Return of the King, numbers of oscars: 1\n",
      "Movie: Intouchables, numbers of oscars: 0\n",
      "Movie: Forrest Gump, numbers of oscars: 3\n"
     ]
    }
   ],
   "source": [
    "for movie in Movie.objects.all():\n",
    "    print(f\"Movie: {movie.title}, numbers of oscars: {Oscar.objects.filter(movie__title=movie.title).count()}\")"
   ]
  },
  {
   "cell_type": "code",
   "execution_count": 43,
   "id": "ae8b588e",
   "metadata": {},
   "outputs": [
    {
     "name": "stdout",
     "output_type": "stream",
     "text": [
      "Actor: Tom Hanks, numbers of oscars: 1\n",
      "Actor: Orlando Bloom, numbers of oscars: 0\n",
      "Actor: Ian McKellen, numbers of oscars: 0\n",
      "Actor: Samuel L. Jackson, numbers of oscars: 0\n"
     ]
    }
   ],
   "source": [
    "for actor in Actor.objects.all():\n",
    "    print(f\"Actor: {actor.name} {actor.last_name}, numbers of oscars: {Oscar.objects.filter(actor__name=actor.name).count()}\")"
   ]
  },
  {
   "cell_type": "markdown",
   "id": "6c062de4",
   "metadata": {},
   "source": [
    "### Pokaż tylko amerykańskie filmy"
   ]
  },
  {
   "cell_type": "code",
   "execution_count": 33,
   "id": "1fafe002",
   "metadata": {},
   "outputs": [
    {
     "name": "stdout",
     "output_type": "stream",
     "text": [
      "Pulp Fiction\n",
      "The Lord of the Rings: The Fellowship of the Ring\n",
      "The Lord of the Rings: The Two Towers\n",
      "The Lord of the Rings: The Return of the King\n",
      "Forrest Gump\n"
     ]
    }
   ],
   "source": [
    "for movie in Movie.objects.filter(country__name=\"USA\"):\n",
    "    print(movie.title)"
   ]
  },
  {
   "cell_type": "code",
   "execution_count": 27,
   "id": "11d67092",
   "metadata": {},
   "outputs": [
    {
     "name": "stdout",
     "output_type": "stream",
     "text": [
      "SELECT \"movies_movie\".\"id\", \"movies_movie\".\"title\", \"movies_movie\".\"genre\", \"movies_movie\".\"year\", \"movies_movie\".\"actor_id\", \"movies_movie\".\"country_id\" FROM \"movies_movie\" LEFT OUTER JOIN \"movies_country\" ON (\"movies_movie\".\"country_id\" = \"movies_country\".\"id\") WHERE NOT (\"movies_country\".\"name\" = USA AND \"movies_country\".\"name\" IS NOT NULL)\n"
     ]
    }
   ],
   "source": [
    "print(Movie.objects.exclude(country__name=\"USA\").query)"
   ]
  },
  {
   "cell_type": "markdown",
   "id": "c4ad3946",
   "metadata": {},
   "source": [
    "### Pokaż filmy, które nie są amerykańskie"
   ]
  },
  {
   "cell_type": "code",
   "execution_count": 7,
   "id": "2fd995eb",
   "metadata": {},
   "outputs": [
    {
     "name": "stdout",
     "output_type": "stream",
     "text": [
      "Intouchables\n"
     ]
    }
   ],
   "source": [
    "for movie in Movie.objects.exclude(country__name=\"USA\"):\n",
    "    print(movie.title)"
   ]
  },
  {
   "cell_type": "markdown",
   "id": "261c13cd",
   "metadata": {},
   "source": [
    "### Wybierz aktórw oraz aktorki, które mają powyżej 30 lat"
   ]
  },
  {
   "cell_type": "code",
   "execution_count": 104,
   "id": "b31d02ad",
   "metadata": {},
   "outputs": [
    {
     "data": {
      "text/plain": [
       "<QuerySet [{'id': 1, 'name': 'Tom', 'last_name': 'Hanks', 'age': 64}, {'id': 2, 'name': 'Orlando', 'last_name': 'Bloom', 'age': 44}, {'id': 3, 'name': 'Ian', 'last_name': 'McKellen', 'age': 81}, {'id': 4, 'name': 'Samuel L.', 'last_name': 'Jackson', 'age': 72}]>"
      ]
     },
     "execution_count": 104,
     "metadata": {},
     "output_type": "execute_result"
    }
   ],
   "source": [
    "Actor.objects.filter(age__gt = 30).values()"
   ]
  },
  {
   "cell_type": "markdown",
   "id": "1f7aa34d",
   "metadata": {},
   "source": [
    "### Uporządkuj aktorów oraz aktorki według wieku"
   ]
  },
  {
   "cell_type": "code",
   "execution_count": 8,
   "id": "f6b10b61",
   "metadata": {},
   "outputs": [
    {
     "data": {
      "text/plain": [
       "<QuerySet [<Actor: Orlando Bloom>, <Actor: Tom Hanks>, <Actor: Samuel L. Jackson>, <Actor: Ian McKellen>]>"
      ]
     },
     "execution_count": 8,
     "metadata": {},
     "output_type": "execute_result"
    }
   ],
   "source": [
    "Actor.objects.order_by(\"age\")"
   ]
  },
  {
   "cell_type": "markdown",
   "id": "5e807dc6",
   "metadata": {},
   "source": [
    "### Sprawdź, który film zdobył najwięcej oskarów w kategorii “najlepszy film”"
   ]
  },
  {
   "cell_type": "code",
   "execution_count": 4,
   "id": "2c4a71be",
   "metadata": {},
   "outputs": [
    {
     "data": {
      "text/plain": [
       "<QuerySet [<Movie: Forrest Gump>, <Movie: The Lord of the Rings: The Return of the King>]>"
      ]
     },
     "execution_count": 4,
     "metadata": {},
     "output_type": "execute_result"
    }
   ],
   "source": [
    "Movie.objects.filter(oscar_for_movies__category=\"Best Picture\")"
   ]
  },
  {
   "cell_type": "code",
   "execution_count": 3,
   "id": "d6247065",
   "metadata": {},
   "outputs": [
    {
     "data": {
      "text/plain": [
       "{'title': 'Forrest Gump', 'nr_of_oscars': 3}"
      ]
     },
     "execution_count": 3,
     "metadata": {},
     "output_type": "execute_result"
    }
   ],
   "source": [
    "Movie.objects.values(\"title\").annotate(nr_of_oscars = Count(\"oscar_for_movies__category\")).order_by(\"-nr_of_oscars\")[0]"
   ]
  },
  {
   "cell_type": "markdown",
   "id": "97acf5eb",
   "metadata": {},
   "source": [
    "### Wybierz film, w którym zagrało najwięcej aktorów (*annotate)"
   ]
  },
  {
   "cell_type": "code",
   "execution_count": 20,
   "id": "1dbd270a",
   "metadata": {},
   "outputs": [
    {
     "name": "stdout",
     "output_type": "stream",
     "text": [
      "SELECT \"movies_actor\".\"name\", COUNT(\"movies_movie_actor\".\"movie_id\") AS \"movies_count\" FROM \"movies_actor\" LEFT OUTER JOIN \"movies_movie_actor\" ON (\"movies_actor\".\"id\" = \"movies_movie_actor\".\"actor_id\") GROUP BY \"movies_actor\".\"name\" ORDER BY \"movies_count\" DESC\n"
     ]
    },
    {
     "data": {
      "text/plain": [
       "<QuerySet [{'name': 'Orlando', 'movies_count': 3}, {'name': 'Ian', 'movies_count': 3}, {'name': 'Tom', 'movies_count': 1}, {'name': 'Samuel L.', 'movies_count': 1}]>"
      ]
     },
     "execution_count": 20,
     "metadata": {},
     "output_type": "execute_result"
    }
   ],
   "source": [
    "print(Actor.objects.values('name').annotate(movies_count=Count('movies')).order_by('-movies_count').query)\n",
    "Actor.objects.values('name').annotate(movies_count=Count('movies')).order_by('-movies_count')\n"
   ]
  },
  {
   "cell_type": "code",
   "execution_count": 21,
   "id": "613039ff",
   "metadata": {
    "scrolled": true
   },
   "outputs": [
    {
     "data": {
      "text/plain": [
       "{'title': 'The Lord of the Rings: The Two Towers', 'amount_of_actors': 2}"
      ]
     },
     "execution_count": 21,
     "metadata": {},
     "output_type": "execute_result"
    }
   ],
   "source": [
    "Movie.objects.values('title').annotate(amount_of_actors=Count('actor__name')).order_by('-amount_of_actors')[0]"
   ]
  },
  {
   "cell_type": "code",
   "execution_count": 5,
   "id": "a79ceec5",
   "metadata": {},
   "outputs": [
    {
     "name": "stdout",
     "output_type": "stream",
     "text": [
      "Tom Hanks\n"
     ]
    }
   ],
   "source": [
    "actor = Actor.objects.get(pk=1)\n",
    "print(actor)"
   ]
  }
 ],
 "metadata": {
  "kernelspec": {
   "display_name": "Django Shell-Plus",
   "language": "python",
   "name": "django_extensions"
  },
  "language_info": {
   "codemirror_mode": {
    "name": "ipython",
    "version": 3
   },
   "file_extension": ".py",
   "mimetype": "text/x-python",
   "name": "python",
   "nbconvert_exporter": "python",
   "pygments_lexer": "ipython3",
   "version": "3.9.1"
  }
 },
 "nbformat": 4,
 "nbformat_minor": 5
}
